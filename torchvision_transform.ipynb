{
  "nbformat": 4,
  "nbformat_minor": 0,
  "metadata": {
    "colab": {
      "name": "torchvision_transform.ipynb",
      "provenance": [],
      "collapsed_sections": [],
      "include_colab_link": true
    },
    "kernelspec": {
      "name": "python3",
      "display_name": "Python 3"
    }
  },
  "cells": [
    {
      "cell_type": "markdown",
      "metadata": {
        "id": "view-in-github",
        "colab_type": "text"
      },
      "source": [
        "<a href=\"https://colab.research.google.com/github/ThisuriCham/Pytorch/blob/master/torchvision_transform.ipynb\" target=\"_parent\"><img src=\"https://colab.research.google.com/assets/colab-badge.svg\" alt=\"Open In Colab\"/></a>"
      ]
    },
    {
      "cell_type": "code",
      "metadata": {
        "id": "DzKgRtKuw3Ni",
        "colab_type": "code",
        "colab": {}
      },
      "source": [
        "#torchvision \n",
        "import torch\n",
        "from torchvision import transforms, datasets\n",
        "\n",
        "data_transform = transforms.Compose(\n",
        "    [transforms.RandomSizedCrop(224),\n",
        "     transforms.RandomHorizontalFlip(),\n",
        "     transforms.ToTensor(),\n",
        "     transforms.Normalize(mean=[0.485,0.456,0.405],std=[0.22,0.25,0.24])]\n",
        ")\n",
        "\n",
        "hy_dataset = datasets.ImageFolder(root='hymenoptera_data/train',transform=data_transform)\n",
        "dataset_loader = torch.utils.data.DataLoader(hymenoptera_dataset,\n",
        "                                             batch_size=4, shuffle=True,\n",
        "                                             num_workers=4)\n"
      ],
      "execution_count": 0,
      "outputs": []
    }
  ]
}