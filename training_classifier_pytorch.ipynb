{
  "nbformat": 4,
  "nbformat_minor": 0,
  "metadata": {
    "colab": {
      "name": "training_classifier_pytorch.ipynb",
      "provenance": [],
      "collapsed_sections": [],
      "include_colab_link": true
    },
    "kernelspec": {
      "name": "python3",
      "display_name": "Python 3"
    },
    "accelerator": "GPU"
  },
  "cells": [
    {
      "cell_type": "markdown",
      "metadata": {
        "id": "view-in-github",
        "colab_type": "text"
      },
      "source": [
        "<a href=\"https://colab.research.google.com/github/ThisuriCham/Pytorch/blob/master/training_classifier_pytorch.ipynb\" target=\"_parent\"><img src=\"https://colab.research.google.com/assets/colab-badge.svg\" alt=\"Open In Colab\"/></a>"
      ]
    },
    {
      "cell_type": "code",
      "metadata": {
        "id": "tCgB4vndX9IJ",
        "colab_type": "code",
        "colab": {}
      },
      "source": [
        "import torch\n",
        "import torchvision as tv\n",
        "import torchvision.transforms as transforms\n",
        "from torch.utils.data import Dataset, DataLoader\n"
      ],
      "execution_count": 0,
      "outputs": []
    },
    {
      "cell_type": "code",
      "metadata": {
        "id": "i5MePs5aZ-Kz",
        "colab_type": "code",
        "colab": {}
      },
      "source": [
        "!pip3 install http://download.pytorch.org/whl/cu80/torch-0.3.0.post4-cp36-cp36m-linux_x86_64.whl"
      ],
      "execution_count": 0,
      "outputs": []
    },
    {
      "cell_type": "code",
      "metadata": {
        "id": "Pm3nby1PaEy7",
        "colab_type": "code",
        "colab": {}
      },
      "source": [
        "!pip3 install torchvision"
      ],
      "execution_count": 0,
      "outputs": []
    },
    {
      "cell_type": "markdown",
      "metadata": {
        "id": "_1IdBYpmpHJJ",
        "colab_type": "text"
      },
      "source": [
        "**Augmentations**"
      ]
    },
    {
      "cell_type": "code",
      "metadata": {
        "id": "Y-vkrVCFYwZd",
        "colab_type": "code",
        "colab": {}
      },
      "source": [
        "transform = transforms.Compose([transforms.ToTensor(),transforms.Normalize((0.5,0.5,0.5),(0.5,0.5,0.5))])"
      ],
      "execution_count": 0,
      "outputs": []
    },
    {
      "cell_type": "markdown",
      "metadata": {
        "id": "Q3xqs4e5pKcg",
        "colab_type": "text"
      },
      "source": [
        "**Downloading and loading data sets**"
      ]
    },
    {
      "cell_type": "code",
      "metadata": {
        "id": "C55EpJINZEqz",
        "colab_type": "code",
        "outputId": "aece0b7e-3f06-4428-8393-519e11555744",
        "colab": {
          "base_uri": "https://localhost:8080/",
          "height": 52
        }
      },
      "source": [
        "trainset = tv.datasets.CIFAR10(root = './data',train=True,transform=transform,download=True)\n",
        "trainLoader = DataLoader(trainset,batch_size=4,shuffle=True,num_workers=0)\n",
        "\n",
        "testset = tv.datasets.CIFAR10(root = './data',train=False,transform=transform,download=True)\n",
        "testloader = DataLoader(testset,batch_size=4,shuffle =False,num_workers=0)\n",
        "\n",
        "classes = ('plane', 'car', 'bird', 'cat','deer', 'dog', 'frog', 'horse', 'ship', 'truck')"
      ],
      "execution_count": 14,
      "outputs": [
        {
          "output_type": "stream",
          "text": [
            "Files already downloaded and verified\n",
            "Files already downloaded and verified\n"
          ],
          "name": "stdout"
        }
      ]
    },
    {
      "cell_type": "markdown",
      "metadata": {
        "id": "AhkWIOntpDHm",
        "colab_type": "text"
      },
      "source": [
        "**Display samples**"
      ]
    },
    {
      "cell_type": "code",
      "metadata": {
        "id": "gpxY3fsPeLiu",
        "colab_type": "code",
        "colab": {}
      },
      "source": [
        "import matplotlib.pyplot as plt\n",
        "import numpy as np\n"
      ],
      "execution_count": 0,
      "outputs": []
    },
    {
      "cell_type": "code",
      "metadata": {
        "id": "kvxhU9CShJo1",
        "colab_type": "code",
        "colab": {
          "base_uri": "https://localhost:8080/",
          "height": 155
        },
        "outputId": "d44e777e-2d57-4167-e435-542eb4e2cedb"
      },
      "source": [
        "def imshow(img):\n",
        "  img = img / 2 + 0.5\n",
        "  npimg = img.numpy() \n",
        "  plt.imshow(np.transpose(npimg, (1,2,0)))\n",
        "  \n",
        "\n",
        "dataiter = iter(trainLoader)\n",
        "images, labels = dataiter.next()\n",
        "\n",
        "imshow(tv.utils.make_grid(images))\n",
        "print(''.join('%5s'%classes[labels[j]] for j in range(4)))\n"
      ],
      "execution_count": 17,
      "outputs": [
        {
          "output_type": "stream",
          "text": [
            " frog frog  cat  cat\n"
          ],
          "name": "stdout"
        },
        {
          "output_type": "display_data",
          "data": {
            "image/png": "[encoded data removed]",
            "text/plain": [
              "<Figure size 432x288 with 1 Axes>"
            ]
          },
          "metadata": {
            "tags": []
          }
        }
      ]
    },
    {
      "cell_type": "code",
      "metadata": {
        "id": "Ui1h0B5jkkbB",
        "colab_type": "code",
        "outputId": "eee5576e-ac9c-4bde-e726-5fc78e308e5a",
        "colab": {
          "base_uri": "https://localhost:8080/",
          "height": 191
        }
      },
      "source": [
        "trainset.class_to_idx"
      ],
      "execution_count": 18,
      "outputs": [
        {
          "output_type": "execute_result",
          "data": {
            "text/plain": [
              "{'airplane': 0,\n",
              " 'automobile': 1,\n",
              " 'bird': 2,\n",
              " 'cat': 3,\n",
              " 'deer': 4,\n",
              " 'dog': 5,\n",
              " 'frog': 6,\n",
              " 'horse': 7,\n",
              " 'ship': 8,\n",
              " 'truck': 9}"
            ]
          },
          "metadata": {
            "tags": []
          },
          "execution_count": 18
        }
      ]
    },
    {
      "cell_type": "markdown",
      "metadata": {
        "id": "CrNDPmIPo7d5",
        "colab_type": "text"
      },
      "source": [
        "**Define a CNN**"
      ]
    },
    {
      "cell_type": "code",
      "metadata": {
        "id": "-E7HDKy4oyiw",
        "colab_type": "code",
        "colab": {}
      },
      "source": [
        "import torch.nn as nn\n",
        "import torch.nn.functional as F"
      ],
      "execution_count": 0,
      "outputs": []
    },
    {
      "cell_type": "code",
      "metadata": {
        "id": "gZCC-WHQp1YS",
        "colab_type": "code",
        "colab": {}
      },
      "source": [
        "class CNN(nn.Module):\n",
        "  def __init__(self):\n",
        "    super(CNN,self).__init__()\n",
        "    self.conv1 = nn.Conv2d(3,6,5)\n",
        "    self.conv2 = nn.Conv2d(6,16,5)\n",
        "    self.pool = nn.MaxPool2d(2,2)\n",
        "    self.fc1 = nn.Linear(16*5*5,120)\n",
        "    self.fc2 = nn.Linear(120,84)\n",
        "    self.fc3 = nn.Linear(84,10)\n",
        "\n",
        "  def forward(self,x):\n",
        "    x = self.pool(F.relu(self.conv1(x)))\n",
        "    x = self.pool(F.relu(self.conv2(x)))\n",
        "    x = x.view(-1,16*5*5)\n",
        "    x = F.relu(self.fc1(x))\n",
        "    x = F.relu(self.fc2(x))\n",
        "    x = self.fc3(x)\n",
        "    return x\n",
        "\n",
        "model = CNN()\n",
        "    "
      ],
      "execution_count": 0,
      "outputs": []
    },
    {
      "cell_type": "markdown",
      "metadata": {
        "id": "xA7zHq0Jt9-2",
        "colab_type": "text"
      },
      "source": [
        "**Loss Function and Optimizer**"
      ]
    },
    {
      "cell_type": "code",
      "metadata": {
        "id": "ePSLsYCwsBVW",
        "colab_type": "code",
        "colab": {}
      },
      "source": [
        "import torch.optim as optim\n",
        "\n",
        "criterion = nn.CrossEntropyLoss()\n",
        "optimizer = optim.SGD(model.parameters(), lr=0.001, momentum=0.9)"
      ],
      "execution_count": 0,
      "outputs": []
    },
    {
      "cell_type": "markdown",
      "metadata": {
        "id": "pCzng0wHux2m",
        "colab_type": "text"
      },
      "source": [
        "**Train the network**"
      ]
    },
    {
      "cell_type": "code",
      "metadata": {
        "id": "z8K9cXOWuwAF",
        "colab_type": "code",
        "colab": {
          "base_uri": "https://localhost:8080/",
          "height": 243
        },
        "outputId": "0f04e2d0-df94-4753-d657-e4e8bb1be5c9"
      },
      "source": [
        "for epoch in range(2):\n",
        "  running_loss = 0.0\n",
        "  for i, data in enumerate(trainLoader, 0):\n",
        "    inputs, labels = data\n",
        "\n",
        "    optimizer.zero_grad()\n",
        "\n",
        "    outputs = model(inputs)\n",
        "    loss = criterion(outputs,labels)\n",
        "    loss.backward()\n",
        "    optimizer.step()\n",
        "\n",
        "    running_loss += loss.item()\n",
        "    if i % 2000 == 1999: #print every 2000 mini batches\n",
        "      print('[%d, %d] loss: %.3f' %(epoch + 1, i+1, running_loss/2000))\n",
        "      running_loss = 0.0\n",
        "\n",
        "print('finished training')"
      ],
      "execution_count": 25,
      "outputs": [
        {
          "output_type": "stream",
          "text": [
            "[1, 2000] loss: 1.188\n",
            "[1, 4000] loss: 1.211\n",
            "[1, 6000] loss: 1.219\n",
            "[1, 8000] loss: 1.218\n",
            "[1, 10000] loss: 1.175\n",
            "[1, 12000] loss: 1.192\n",
            "[2, 2000] loss: 1.097\n",
            "[2, 4000] loss: 1.087\n",
            "[2, 6000] loss: 1.109\n",
            "[2, 8000] loss: 1.095\n",
            "[2, 10000] loss: 1.097\n",
            "[2, 12000] loss: 1.083\n",
            "finished training\n"
          ],
          "name": "stdout"
        }
      ]
    },
    {
      "cell_type": "code",
      "metadata": {
        "id": "_tArRwpB6F7A",
        "colab_type": "code",
        "colab": {}
      },
      "source": [
        "for i, data in enumerate(trainLoader, 0):\n",
        "  print(data)"
      ],
      "execution_count": 0,
      "outputs": []
    },
    {
      "cell_type": "markdown",
      "metadata": {
        "id": "1jlmx81WnGnw",
        "colab_type": "text"
      },
      "source": [
        "**Save only model parameters**"
      ]
    },
    {
      "cell_type": "code",
      "metadata": {
        "id": "9NV2KjqE6ilR",
        "colab_type": "code",
        "colab": {}
      },
      "source": [
        "PATH = './cifar_net.pth'\n",
        "torch.save(model.state_dict(),PATH)"
      ],
      "execution_count": 0,
      "outputs": []
    },
    {
      "cell_type": "markdown",
      "metadata": {
        "id": "w28Pey08nMPS",
        "colab_type": "text"
      },
      "source": [
        "**Save entire model**"
      ]
    },
    {
      "cell_type": "code",
      "metadata": {
        "id": "qOev18kjm1TN",
        "colab_type": "code",
        "colab": {
          "base_uri": "https://localhost:8080/",
          "height": 176
        },
        "outputId": "f48b1962-96c9-4b8e-d353-c30f936b49e4"
      },
      "source": [
        "torch.save(model,PATH)"
      ],
      "execution_count": 27,
      "outputs": [
        {
          "output_type": "stream",
          "text": [
            "/usr/local/lib/python3.6/dist-packages/torch/serialization.py:292: UserWarning: Couldn't retrieve source code for container of type CNN. It won't be checked for correctness upon loading.\n",
            "  \"type \" + obj.__name__ + \". It won't be checked \"\n",
            "/usr/local/lib/python3.6/dist-packages/torch/serialization.py:292: UserWarning: Couldn't retrieve source code for container of type Conv2d. It won't be checked for correctness upon loading.\n",
            "  \"type \" + obj.__name__ + \". It won't be checked \"\n",
            "/usr/local/lib/python3.6/dist-packages/torch/serialization.py:292: UserWarning: Couldn't retrieve source code for container of type MaxPool2d. It won't be checked for correctness upon loading.\n",
            "  \"type \" + obj.__name__ + \". It won't be checked \"\n",
            "/usr/local/lib/python3.6/dist-packages/torch/serialization.py:292: UserWarning: Couldn't retrieve source code for container of type Linear. It won't be checked for correctness upon loading.\n",
            "  \"type \" + obj.__name__ + \". It won't be checked \"\n"
          ],
          "name": "stderr"
        }
      ]
    },
    {
      "cell_type": "code",
      "metadata": {
        "id": "VsP7cRo9na9g",
        "colab_type": "code",
        "colab": {}
      },
      "source": [
        ""
      ],
      "execution_count": 0,
      "outputs": []
    }
  ]
}